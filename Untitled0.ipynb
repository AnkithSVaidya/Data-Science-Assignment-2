{
  "nbformat": 4,
  "nbformat_minor": 0,
  "metadata": {
    "colab": {
      "name": "Untitled0.ipynb",
      "provenance": []
    },
    "kernelspec": {
      "name": "python3",
      "display_name": "Python 3"
    }
  },
  "cells": [
    {
      "cell_type": "markdown",
      "metadata": {
        "id": "rEKFNi9vJ-AN"
      },
      "source": [
        "**QUESTION 1**\n",
        "CREATE AN EMPTY LIST.ACCEPT 10 NUMBERS FROM THE USER AND APPEND TO IT THE LIST IF IT IS AN EVEN NUMBER"
      ]
    },
    {
      "cell_type": "code",
      "metadata": {
        "id": "2D4TvH9Usrkv",
        "outputId": "bf689469-bb60-43ec-8016-04c0917a7aa4",
        "colab": {
          "base_uri": "https://localhost:8080/"
        }
      },
      "source": [
        "\n",
        "# creating an empty list\n",
        "lst = []\n",
        "\n",
        "#accepting 10 numbers from the user\n",
        "for i in range(0,10): \n",
        "  x = int(input(\"\\nEnter the value : \"))\n",
        "  lst.append(x)\n",
        "  \n",
        "  #creating another empty list to append only even values\n",
        "even_lst = []\n",
        "\n",
        "#append only even numbers\n",
        "\n",
        "for i in lst:\n",
        "    if(i%2==0):\n",
        "      even_lst.append(i)\n",
        "   \n",
        "print(\"even appended list is\",even_lst)\n"
      ],
      "execution_count": 2,
      "outputs": [
        {
          "output_type": "stream",
          "text": [
            "\n",
            "Enter the value : 1\n",
            "\n",
            "Enter the value : 2\n",
            "\n",
            "Enter the value : 3\n",
            "\n",
            "Enter the value : 4\n",
            "\n",
            "Enter the value : 5\n",
            "\n",
            "Enter the value : 6\n",
            "\n",
            "Enter the value : 7\n",
            "\n",
            "Enter the value : 8\n",
            "\n",
            "Enter the value : 9\n",
            "\n",
            "Enter the value : 10\n",
            "even appended list is [2, 4, 6, 8, 10]\n"
          ],
          "name": "stdout"
        }
      ]
    },
    {
      "cell_type": "markdown",
      "metadata": {
        "id": "xgp_508MJkT7"
      },
      "source": [
        "**QUESTION 2** \n",
        "CREATE A NOTEBOOK ON LIST COMPREHENSION.THIS EXERCISE IS TO PUT YOU IN A SELF LEARNING MODE"
      ]
    },
    {
      "cell_type": "code",
      "metadata": {
        "id": "D4_KoTj3swBW",
        "outputId": "6eb916e1-c10a-4fcb-c0dc-94b5dbcbb77f",
        "colab": {
          "base_uri": "https://localhost:8080/"
        }
      },
      "source": [
        "#list comprehension\n",
        "even_lst=[i for i in lst if i%2==0]\n",
        "print(\"The output list is \",even_lst)\n",
        "\n",
        "\n"
      ],
      "execution_count": 3,
      "outputs": [
        {
          "output_type": "stream",
          "text": [
            "The output list is  [2, 4, 6, 8, 10]\n"
          ],
          "name": "stdout"
        }
      ]
    },
    {
      "cell_type": "markdown",
      "metadata": {
        "id": "7ONTBHgPgtaj"
      },
      "source": [
        "**QUESTION 3**\n",
        "You have seen in the videos how powerful dictionary data structure is.\n",
        "In this assignment, given a number n, you have to write a program that generates a dictionary d which\n",
        "contains (i, i*i), where i is from 1 to n (both included).\n",
        "Then you have to just print this dictionary d.\n",
        "Example:\n",
        "Input: 4\n",
        "will give output as\n",
        "{1: 1, 2: 4, 3: 9, 4: 16}\n",
        "Input Format:\n",
        "Take the number n in a single line.\n",
        "Output Format:\n",
        "Print the dictionary d in a single line.\n",
        "Example:\n",
        "Input:\n",
        "8\n",
        "Output:\n",
        "{1: 1, 2: 4, 3: 9, 4: 16, 5: 25, 6: 36, 7: 49, 8: 64}\n"
      ]
    },
    {
      "cell_type": "code",
      "metadata": {
        "id": "GPgBHnWThVOd"
      },
      "source": [
        ""
      ],
      "execution_count": null,
      "outputs": []
    }
  ]
}